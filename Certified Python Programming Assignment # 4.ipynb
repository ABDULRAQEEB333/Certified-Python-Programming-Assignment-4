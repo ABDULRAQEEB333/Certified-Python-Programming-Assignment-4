{
 "cells": [
  {
   "cell_type": "markdown",
   "metadata": {},
   "source": [
    "# Certified Python Programming Assignment # 4\n"
   ]
  },
  {
   "cell_type": "markdown",
   "metadata": {},
   "source": [
    "# #Question1:\n",
    "#Use a dictionary to store information about a person you know.\n",
    "Store their first name, last name, age, and the city in which they live. You should have keys such as first_name, last_name, age, and city. Print each piece of information stored in your dictionary. Add a new key value pair about qualification then update the qualification value to high academic level then delete it\n"
   ]
  },
  {
   "cell_type": "code",
   "execution_count": 3,
   "metadata": {},
   "outputs": [],
   "source": [
    "\n",
    "first_name=\"Ahmad\"\n",
    "last_name=\"Ali\"\n",
    "age=24\n",
    "city=\"Karachi\""
   ]
  },
  {
   "cell_type": "code",
   "execution_count": 4,
   "metadata": {},
   "outputs": [],
   "source": [
    "Data={'first_name':first_name,'last_name':last_name,'age':age,'city':city}"
   ]
  },
  {
   "cell_type": "code",
   "execution_count": 5,
   "metadata": {},
   "outputs": [
    {
     "name": "stdout",
     "output_type": "stream",
     "text": [
      "{'first_name': 'Ahmad', 'last_name': 'Ali', 'age': 24, 'city': 'Karachi'} [24]\n"
     ]
    }
   ],
   "source": [
    "print(Data,[age])"
   ]
  },
  {
   "cell_type": "code",
   "execution_count": 6,
   "metadata": {},
   "outputs": [
    {
     "data": {
      "text/plain": [
       "'Karachi'"
      ]
     },
     "execution_count": 6,
     "metadata": {},
     "output_type": "execute_result"
    }
   ],
   "source": [
    "Data['city']"
   ]
  },
  {
   "cell_type": "code",
   "execution_count": 7,
   "metadata": {},
   "outputs": [
    {
     "data": {
      "text/plain": [
       "'Ahmad'"
      ]
     },
     "execution_count": 7,
     "metadata": {},
     "output_type": "execute_result"
    }
   ],
   "source": [
    "Data['first_name']"
   ]
  },
  {
   "cell_type": "code",
   "execution_count": 8,
   "metadata": {},
   "outputs": [],
   "source": [
    "sndata={'qualification':'BSC','Status':'Single'}\n",
    "\n",
    "\n",
    "new=[]"
   ]
  },
  {
   "cell_type": "code",
   "execution_count": 9,
   "metadata": {},
   "outputs": [
    {
     "data": {
      "text/plain": [
       "[{'qualification': 'BSC', 'Status': 'Single'}]"
      ]
     },
     "execution_count": 9,
     "metadata": {},
     "output_type": "execute_result"
    }
   ],
   "source": [
    "new.append(sndata)\n",
    "new"
   ]
  },
  {
   "cell_type": "markdown",
   "metadata": {},
   "source": [
    "# Question2:\n",
    "Make a dictionary called cities. Use the names of three cities as keys in your dictionary. Create a dictionary of information about each city and include the country that the city is in, its approximate population, and one fact about that city. The keys for each city’s dictionary should be something like country, population, and fact. Print the name of each city and all of the information you have stored about it.\n"
   ]
  },
  {
   "cell_type": "code",
   "execution_count": 10,
   "metadata": {},
   "outputs": [
    {
     "data": {
      "text/plain": [
       "{'karachi': ('Sindh', 'big city', 'PAKISTAN', '14.91million'),\n",
       " 'lahore': ('punjab', '', 'PAKISTAN', '11.9million'),\n",
       " 'islamabad': ('punjab', 'Capital', 'PAKISTAN', '1.0million')}"
      ]
     },
     "execution_count": 10,
     "metadata": {},
     "output_type": "execute_result"
    }
   ],
   "source": [
    "karachi=\"Sindh\",\"big city\",\"PAKISTAN\",\"14.91million\"\n",
    "lahore=\"punjab\",\"\",\"PAKISTAN\",\"11.9million\"\n",
    "islamabad=\"punjab\",\"Capital\",\"PAKISTAN\",\"1.0million\"\n",
    "cities={'karachi':karachi,'lahore':lahore,'islamabad':islamabad}\n",
    "cities"
   ]
  },
  {
   "cell_type": "code",
   "execution_count": 13,
   "metadata": {},
   "outputs": [
    {
     "data": {
      "text/plain": [
       "('Sindh', 'big city', 'PAKISTAN', '14.91million')"
      ]
     },
     "execution_count": 13,
     "metadata": {},
     "output_type": "execute_result"
    }
   ],
   "source": [
    "cities['karachi']"
   ]
  },
  {
   "cell_type": "markdown",
   "metadata": {},
   "source": [
    "# Question3:\n",
    "A movie theater charges different ticket prices depending on a person’s age. If a person is under the age of 3, the ticket is free; if they are between 3 and 12, the ticket is $10; and if they are over age 12, the ticket is $15. Write a loop in which you ask users their age, and then tell them the cost of their movie ticket.\n"
   ]
  },
  {
   "cell_type": "code",
   "execution_count": 14,
   "metadata": {},
   "outputs": [
    {
     "name": "stdout",
     "output_type": "stream",
     "text": [
      "Enter Your Age Please: 6\n",
      "the ticket is $10\n"
     ]
    }
   ],
   "source": [
    "age = int(input(\"Enter Your Age Please: \"))\n",
    "\n",
    "if age < 3:\n",
    "    print(\"the ticket is free\")\n",
    "elif age == 3 or age < 12:\n",
    "    print(\"the ticket is $10\")\n",
    "else:\n",
    "    print(\"𝑡ℎ𝑒 𝑡𝑖𝑐𝑘𝑒𝑡𝑖𝑠 $15\")"
   ]
  },
  {
   "cell_type": "code",
   "execution_count": 15,
   "metadata": {},
   "outputs": [],
   "source": [
    "a=12\n",
    "b=10\n",
    "if a == b:\n",
    "    print(\"OK\")"
   ]
  },
  {
   "cell_type": "code",
   "execution_count": 16,
   "metadata": {},
   "outputs": [
    {
     "name": "stdout",
     "output_type": "stream",
     "text": [
      "Enter Your Age Please: 24\n",
      "the person is adult\n"
     ]
    }
   ],
   "source": [
    "age = int(input(\"Enter Your Age Please: \"))\n",
    "\n",
    "if age < 2:\n",
    "    print(\"the person is a baby\")\n",
    "elif age == 2 or age < 4:\n",
    "    print(\"the person is toddler\")\n",
    "elif age == 4 or age < 13:\n",
    "    print(\"the person is kid\")\n",
    "elif age == 13 or age < 20:\n",
    "    print(\"the person is teenager\")\n",
    "elif age == 20 or age < 65:\n",
    "    print(\"the person is adult\")\n",
    "else:\n",
    "    print(\"the person is elder\")"
   ]
  },
  {
   "cell_type": "markdown",
   "metadata": {},
   "source": [
    "# Question4:\n",
    "Write a function called favorite_book() that accepts one parameter, title. The function should print a message, such as One of my favorite books is Alice in Wonderland. Call the function, making sure to include a book title as an argument in the function call.\n",
    "\n"
   ]
  },
  {
   "cell_type": "code",
   "execution_count": 17,
   "metadata": {},
   "outputs": [
    {
     "name": "stdout",
     "output_type": "stream",
     "text": [
      "my favorite books is The Quran\n"
     ]
    }
   ],
   "source": [
    "def favorite_book(fname):\n",
    "    print(\"my favorite books is The \" + fname )\n",
    "    \n",
    "favorite_book(\"Quran\")    "
   ]
  },
  {
   "cell_type": "markdown",
   "metadata": {},
   "source": [
    "# Question5:\n",
    "Guess the number game\n",
    "Write a program which randomly generate a number between 1 to 30 and ask the user in input field to guess the correct number. Give three chances to user guess the number and also give hint to user if hidden number is greater or smaller than the number he given to input field.\n"
   ]
  },
  {
   "cell_type": "code",
   "execution_count": 4,
   "metadata": {},
   "outputs": [],
   "source": [
    " # This is a guess the number game.\n",
    "\n",
    "import random\n"
   ]
  },
  {
   "cell_type": "code",
   "execution_count": null,
   "metadata": {},
   "outputs": [],
   "source": []
  },
  {
   "cell_type": "code",
   "execution_count": null,
   "metadata": {},
   "outputs": [],
   "source": []
  },
  {
   "cell_type": "code",
   "execution_count": null,
   "metadata": {},
   "outputs": [],
   "source": []
  },
  {
   "cell_type": "code",
   "execution_count": null,
   "metadata": {},
   "outputs": [],
   "source": []
  }
 ],
 "metadata": {
  "kernelspec": {
   "display_name": "Python 3",
   "language": "python",
   "name": "python3"
  },
  "language_info": {
   "codemirror_mode": {
    "name": "ipython",
    "version": 3
   },
   "file_extension": ".py",
   "mimetype": "text/x-python",
   "name": "python",
   "nbconvert_exporter": "python",
   "pygments_lexer": "ipython3",
   "version": "3.7.3"
  }
 },
 "nbformat": 4,
 "nbformat_minor": 2
}
